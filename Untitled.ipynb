{
 "cells": [
  {
   "cell_type": "code",
   "execution_count": 2,
   "id": "2a578f45-a0cc-4063-a6db-74c3f2a760e6",
   "metadata": {},
   "outputs": [],
   "source": [
    "\n",
    "import numpy as np\n",
    "import pandas as pd\n",
    "from matplotlib import pyplot as plt\n",
    "\n",
    "data = pd.read_csv('/Users/sanatkumargupta/Desktop/neural_network/train.csv')"
   ]
  },
  {
   "cell_type": "code",
   "execution_count": 3,
   "id": "a36f1b71-61bd-4135-856d-574d63aa4375",
   "metadata": {},
   "outputs": [],
   "source": [
    "data = np.array(data)\n",
    "m, n = data.shape\n",
    "np.random.shuffle(data) # shuffle before splitting into dev and training sets\n",
    "\n",
    "data_dev = data[0:1000].T\n",
    "Y_dev = data_dev[0]\n",
    "X_dev = data_dev[1:n]\n",
    "X_dev = X_dev / 255.\n",
    "\n",
    "data_train = data[1000:m].T\n",
    "Y_train = data_train[0]\n",
    "X_train = data_train[1:n]\n",
    "X_train = X_train / 255.\n",
    "_,m_train = X_train.shape"
   ]
  },
  {
   "cell_type": "code",
   "execution_count": 4,
   "id": "ebfdca8f-5868-43ff-a39a-04d5b92365dd",
   "metadata": {},
   "outputs": [
    {
     "data": {
      "text/plain": [
       "array([7, 2, 5, ..., 2, 5, 9])"
      ]
     },
     "execution_count": 4,
     "metadata": {},
     "output_type": "execute_result"
    }
   ],
   "source": [
    "Y_train"
   ]
  },
  {
   "cell_type": "code",
   "execution_count": 5,
   "id": "421da9b7-14dc-4498-b057-b6c601309e95",
   "metadata": {},
   "outputs": [],
   "source": [
    "def init_params():\n",
    "    W1 = np.random.rand(10, 784) - 0.5\n",
    "    b1 = np.random.rand(10, 1) - 0.5\n",
    "    W2 = np.random.rand(10, 10) - 0.5\n",
    "    b2 = np.random.rand(10, 1) - 0.5\n",
    "    return W1, b1, W2, b2\n",
    "\n",
    "def ReLU(Z):\n",
    "    return np.maximum(Z, 0)\n",
    "\n",
    "def softmax(Z):\n",
    "    A = np.exp(Z) / sum(np.exp(Z))\n",
    "    return A\n",
    "    \n",
    "def forward_prop(W1, b1, W2, b2, X):\n",
    "    Z1 = W1.dot(X) + b1\n",
    "    A1 = ReLU(Z1)\n",
    "    Z2 = W2.dot(A1) + b2\n",
    "    A2 = softmax(Z2)\n",
    "    return Z1, A1, Z2, A2\n",
    "\n",
    "def ReLU_deriv(Z):\n",
    "    return Z > 0\n",
    "\n",
    "def one_hot(Y):\n",
    "    one_hot_Y = np.zeros((Y.size, Y.max() + 1))\n",
    "    one_hot_Y[np.arange(Y.size), Y] = 1\n",
    "    one_hot_Y = one_hot_Y.T\n",
    "    return one_hot_Y\n",
    "\n",
    "def backward_prop(Z1, A1, Z2, A2, W1, W2, X, Y):\n",
    "    one_hot_Y = one_hot(Y)\n",
    "    dZ2 = A2 - one_hot_Y\n",
    "    dW2 = 1 / m * dZ2.dot(A1.T)\n",
    "    db2 = 1 / m * np.sum(dZ2)\n",
    "    dZ1 = W2.T.dot(dZ2) * ReLU_deriv(Z1)\n",
    "    dW1 = 1 / m * dZ1.dot(X.T)\n",
    "    db1 = 1 / m * np.sum(dZ1)\n",
    "    return dW1, db1, dW2, db2\n",
    "\n",
    "def update_params(W1, b1, W2, b2, dW1, db1, dW2, db2, alpha):\n",
    "    W1 = W1 - alpha * dW1\n",
    "    b1 = b1 - alpha * db1    \n",
    "    W2 = W2 - alpha * dW2  \n",
    "    b2 = b2 - alpha * db2    \n",
    "    return W1, b1, W2, b2"
   ]
  },
  {
   "cell_type": "code",
   "execution_count": 6,
   "id": "a84b89ec-d3a7-41fc-a84e-2f0e850c35cf",
   "metadata": {},
   "outputs": [],
   "source": [
    "def get_predictions(A2):\n",
    "    return np.argmax(A2, 0)\n",
    "\n",
    "def get_accuracy(predictions, Y):\n",
    "    print(predictions, Y)\n",
    "    return np.sum(predictions == Y) / Y.size\n",
    "\n",
    "def gradient_descent(X, Y, alpha, iterations):\n",
    "    W1, b1, W2, b2 = init_params()\n",
    "    for i in range(iterations):\n",
    "        Z1, A1, Z2, A2 = forward_prop(W1, b1, W2, b2, X)\n",
    "        dW1, db1, dW2, db2 = backward_prop(Z1, A1, Z2, A2, W1, W2, X, Y)\n",
    "        W1, b1, W2, b2 = update_params(W1, b1, W2, b2, dW1, db1, dW2, db2, alpha)\n",
    "        if i % 10 == 0:\n",
    "            print(\"Iteration: \", i)\n",
    "            predictions = get_predictions(A2)\n",
    "            print(get_accuracy(predictions, Y))\n",
    "    return W1, b1, W2, b2\n",
    "\n"
   ]
  },
  {
   "cell_type": "code",
   "execution_count": 7,
   "id": "b7a640ae-3200-4bce-b70b-b648c7d1dab0",
   "metadata": {},
   "outputs": [
    {
     "name": "stdout",
     "output_type": "stream",
     "text": [
      "Iteration:  0\n",
      "[1 1 8 ... 7 8 8] [7 2 5 ... 2 5 9]\n",
      "0.05251219512195122\n",
      "Iteration:  10\n",
      "[1 7 7 ... 7 8 7] [7 2 5 ... 2 5 9]\n",
      "0.14704878048780487\n",
      "Iteration:  20\n",
      "[7 0 7 ... 1 8 7] [7 2 5 ... 2 5 9]\n",
      "0.24409756097560975\n",
      "Iteration:  30\n",
      "[7 0 0 ... 1 8 7] [7 2 5 ... 2 5 9]\n",
      "0.30741463414634146\n",
      "Iteration:  40\n",
      "[7 0 8 ... 1 8 7] [7 2 5 ... 2 5 9]\n",
      "0.3661219512195122\n",
      "Iteration:  50\n",
      "[7 0 3 ... 6 8 7] [7 2 5 ... 2 5 9]\n",
      "0.4149024390243902\n",
      "Iteration:  60\n",
      "[7 0 3 ... 6 8 7] [7 2 5 ... 2 5 9]\n",
      "0.4548048780487805\n",
      "Iteration:  70\n",
      "[7 0 3 ... 2 8 7] [7 2 5 ... 2 5 9]\n",
      "0.49097560975609755\n",
      "Iteration:  80\n",
      "[7 0 3 ... 2 8 7] [7 2 5 ... 2 5 9]\n",
      "0.5170731707317073\n",
      "Iteration:  90\n",
      "[7 0 3 ... 2 8 7] [7 2 5 ... 2 5 9]\n",
      "0.538\n",
      "Iteration:  100\n",
      "[7 2 3 ... 2 8 7] [7 2 5 ... 2 5 9]\n",
      "0.5576585365853659\n",
      "Iteration:  110\n",
      "[7 2 3 ... 2 8 9] [7 2 5 ... 2 5 9]\n",
      "0.5744634146341463\n",
      "Iteration:  120\n",
      "[7 2 8 ... 2 8 9] [7 2 5 ... 2 5 9]\n",
      "0.5901219512195122\n",
      "Iteration:  130\n",
      "[7 2 8 ... 2 8 9] [7 2 5 ... 2 5 9]\n",
      "0.6065853658536585\n",
      "Iteration:  140\n",
      "[7 2 8 ... 2 8 4] [7 2 5 ... 2 5 9]\n",
      "0.6221707317073171\n",
      "Iteration:  150\n",
      "[7 2 3 ... 2 8 4] [7 2 5 ... 2 5 9]\n",
      "0.6369024390243903\n",
      "Iteration:  160\n",
      "[7 2 3 ... 2 8 4] [7 2 5 ... 2 5 9]\n",
      "0.6519268292682927\n",
      "Iteration:  170\n",
      "[7 2 3 ... 2 8 4] [7 2 5 ... 2 5 9]\n",
      "0.6660975609756098\n",
      "Iteration:  180\n",
      "[7 2 3 ... 2 8 4] [7 2 5 ... 2 5 9]\n",
      "0.6798536585365854\n",
      "Iteration:  190\n",
      "[7 2 3 ... 2 8 4] [7 2 5 ... 2 5 9]\n",
      "0.692390243902439\n",
      "Iteration:  200\n",
      "[7 2 3 ... 2 8 4] [7 2 5 ... 2 5 9]\n",
      "0.7044878048780487\n",
      "Iteration:  210\n",
      "[7 2 3 ... 2 8 4] [7 2 5 ... 2 5 9]\n",
      "0.7148536585365853\n",
      "Iteration:  220\n",
      "[7 2 3 ... 2 8 4] [7 2 5 ... 2 5 9]\n",
      "0.7244146341463414\n",
      "Iteration:  230\n",
      "[7 2 3 ... 2 8 4] [7 2 5 ... 2 5 9]\n",
      "0.7325121951219512\n",
      "Iteration:  240\n",
      "[7 2 3 ... 2 8 4] [7 2 5 ... 2 5 9]\n",
      "0.7395609756097561\n",
      "Iteration:  250\n",
      "[7 2 3 ... 2 8 4] [7 2 5 ... 2 5 9]\n",
      "0.7468536585365854\n",
      "Iteration:  260\n",
      "[7 2 5 ... 2 8 4] [7 2 5 ... 2 5 9]\n",
      "0.7532439024390244\n",
      "Iteration:  270\n",
      "[7 2 5 ... 2 8 4] [7 2 5 ... 2 5 9]\n",
      "0.7585121951219512\n",
      "Iteration:  280\n",
      "[7 2 5 ... 2 8 4] [7 2 5 ... 2 5 9]\n",
      "0.7630487804878049\n",
      "Iteration:  290\n",
      "[7 2 5 ... 2 8 4] [7 2 5 ... 2 5 9]\n",
      "0.7685365853658537\n",
      "Iteration:  300\n",
      "[7 2 5 ... 2 8 4] [7 2 5 ... 2 5 9]\n",
      "0.7734634146341464\n",
      "Iteration:  310\n",
      "[7 2 5 ... 2 8 4] [7 2 5 ... 2 5 9]\n",
      "0.7782682926829269\n",
      "Iteration:  320\n",
      "[7 2 5 ... 2 8 4] [7 2 5 ... 2 5 9]\n",
      "0.781829268292683\n",
      "Iteration:  330\n",
      "[7 2 5 ... 2 8 4] [7 2 5 ... 2 5 9]\n",
      "0.785829268292683\n",
      "Iteration:  340\n",
      "[7 2 5 ... 2 8 4] [7 2 5 ... 2 5 9]\n",
      "0.7889756097560976\n",
      "Iteration:  350\n",
      "[7 2 5 ... 2 8 4] [7 2 5 ... 2 5 9]\n",
      "0.7921707317073171\n",
      "Iteration:  360\n",
      "[7 2 5 ... 2 8 4] [7 2 5 ... 2 5 9]\n",
      "0.7949024390243903\n",
      "Iteration:  370\n",
      "[7 2 5 ... 2 8 4] [7 2 5 ... 2 5 9]\n",
      "0.7978536585365854\n",
      "Iteration:  380\n",
      "[7 2 5 ... 2 8 4] [7 2 5 ... 2 5 9]\n",
      "0.8009512195121952\n",
      "Iteration:  390\n",
      "[7 2 5 ... 2 8 4] [7 2 5 ... 2 5 9]\n",
      "0.8038048780487805\n",
      "Iteration:  400\n",
      "[7 2 5 ... 2 8 4] [7 2 5 ... 2 5 9]\n",
      "0.8066585365853659\n",
      "Iteration:  410\n",
      "[7 2 5 ... 2 8 9] [7 2 5 ... 2 5 9]\n",
      "0.8092439024390244\n",
      "Iteration:  420\n",
      "[7 2 5 ... 2 8 9] [7 2 5 ... 2 5 9]\n",
      "0.811829268292683\n",
      "Iteration:  430\n",
      "[7 2 5 ... 2 8 9] [7 2 5 ... 2 5 9]\n",
      "0.8142682926829268\n",
      "Iteration:  440\n",
      "[7 2 5 ... 2 8 9] [7 2 5 ... 2 5 9]\n",
      "0.816390243902439\n",
      "Iteration:  450\n",
      "[7 2 5 ... 2 8 9] [7 2 5 ... 2 5 9]\n",
      "0.8191463414634146\n",
      "Iteration:  460\n",
      "[7 2 5 ... 2 8 9] [7 2 5 ... 2 5 9]\n",
      "0.821170731707317\n",
      "Iteration:  470\n",
      "[7 2 5 ... 2 8 9] [7 2 5 ... 2 5 9]\n",
      "0.8235853658536585\n",
      "Iteration:  480\n",
      "[7 2 5 ... 2 8 9] [7 2 5 ... 2 5 9]\n",
      "0.8256097560975609\n",
      "Iteration:  490\n",
      "[7 2 5 ... 2 8 9] [7 2 5 ... 2 5 9]\n",
      "0.8278048780487804\n"
     ]
    }
   ],
   "source": [
    "W1, b1, W2, b2 = gradient_descent(X_train, Y_train, 0.10, 500)"
   ]
  },
  {
   "cell_type": "code",
   "execution_count": 8,
   "id": "e93b2f31-3825-4e1a-aa47-cecefa4cd0b5",
   "metadata": {},
   "outputs": [],
   "source": [
    "def make_predictions(X, W1, b1, W2, b2):\n",
    "    _, _, _, A2 = forward_prop(W1, b1, W2, b2, X)\n",
    "    predictions = get_predictions(A2)\n",
    "    return predictions\n",
    "\n",
    "def test_prediction(index, W1, b1, W2, b2):\n",
    "    current_image = X_train[:, index, None]\n",
    "    prediction = make_predictions(X_train[:, index, None], W1, b1, W2, b2)\n",
    "    label = Y_train[index]\n",
    "    print(\"Prediction: \", prediction)\n",
    "    print(\"Label: \", label)\n",
    "    \n",
    "    current_image = current_image.reshape((28, 28)) * 255\n",
    "    plt.gray()\n",
    "    plt.imshow(current_image, interpolation='nearest')\n",
    "    plt.show()"
   ]
  },
  {
   "cell_type": "code",
   "execution_count": 9,
   "id": "b5ce4820-3ea2-4f57-af2d-7b69dd62d534",
   "metadata": {},
   "outputs": [
    {
     "name": "stdout",
     "output_type": "stream",
     "text": [
      "Prediction:  [7]\n",
      "Label:  7\n"
     ]
    },
    {
     "data": {
      "image/png": "[encoded data removed]",
      "text/plain": [
       "<Figure size 640x480 with 1 Axes>"
      ]
     },
     "metadata": {},
     "output_type": "display_data"
    },
    {
     "name": "stdout",
     "output_type": "stream",
     "text": [
      "Prediction:  [2]\n",
      "Label:  2\n"
     ]
    },
    {
     "data": {
      "image/png": "[encoded data removed]",
      "text/plain": [
       "<Figure size 640x480 with 1 Axes>"
      ]
     },
     "metadata": {},
     "output_type": "display_data"
    },
    {
     "name": "stdout",
     "output_type": "stream",
     "text": [
      "Prediction:  [5]\n",
      "Label:  5\n"
     ]
    },
    {
     "data": {
      "image/png": "[encoded data removed]",
      "text/plain": [
       "<Figure size 640x480 with 1 Axes>"
      ]
     },
     "metadata": {},
     "output_type": "display_data"
    },
    {
     "name": "stdout",
     "output_type": "stream",
     "text": [
      "Prediction:  [1]\n",
      "Label:  1\n"
     ]
    },
    {
     "data": {
      "image/png": "[encoded data removed]",
      "text/plain": [
       "<Figure size 640x480 with 1 Axes>"
      ]
     },
     "metadata": {},
     "output_type": "display_data"
    }
   ],
   "source": [
    "test_prediction(0, W1, b1, W2, b2)\n",
    "test_prediction(1, W1, b1, W2, b2)\n",
    "test_prediction(2, W1, b1, W2, b2)\n",
    "test_prediction(3, W1, b1, W2, b2)"
   ]
  },
  {
   "cell_type": "code",
   "execution_count": 10,
   "id": "222a0059-c8e3-4ab5-9664-72dff163aa57",
   "metadata": {},
   "outputs": [
    {
     "name": "stdout",
     "output_type": "stream",
     "text": [
      "[8 8 8 7 9 3 5 4 6 2 8 2 9 4 3 2 7 1 6 1 9 5 4 3 6 0 3 7 4 3 2 1 5 5 2 1 1\n",
      " 9 0 3 3 4 3 7 7 4 1 5 5 4 2 3 3 9 0 4 1 0 8 5 4 7 2 2 2 9 2 9 7 2 1 7 8 0\n",
      " 3 2 8 0 7 0 1 7 3 0 6 3 9 6 2 6 3 3 6 8 4 9 9 7 9 1 2 2 9 7 3 7 8 7 8 7 8\n",
      " 3 9 8 3 0 6 6 4 5 3 7 4 4 5 6 6 8 6 9 1 7 2 8 9 9 9 2 2 2 0 7 3 8 3 3 4 8\n",
      " 7 3 2 4 1 7 2 2 4 6 9 6 4 8 9 5 0 3 5 4 1 5 2 2 3 0 0 1 6 2 1 9 6 2 8 6 2\n",
      " 3 3 4 1 2 2 7 7 5 9 6 4 3 3 1 9 5 0 0 1 0 5 5 3 7 0 9 5 4 9 6 9 4 5 0 4 9\n",
      " 8 9 8 5 6 4 0 3 3 8 4 1 8 0 9 6 4 3 7 0 6 7 1 0 3 2 0 4 4 8 6 0 1 5 0 0 3\n",
      " 7 7 8 1 7 2 0 5 6 6 8 6 9 9 7 5 0 5 8 5 9 0 9 8 2 7 2 1 6 4 9 3 4 2 0 1 5\n",
      " 2 7 0 0 1 8 6 7 7 7 3 5 0 8 0 4 1 6 3 4 1 6 8 0 5 7 2 2 0 9 9 0 7 2 3 7 1\n",
      " 6 7 5 6 0 1 3 3 4 8 7 0 3 6 8 9 3 8 0 1 7 3 5 6 6 1 7 9 6 2 0 4 0 7 7 8 3\n",
      " 1 2 6 1 8 4 1 6 0 6 1 7 3 9 5 8 2 1 2 1 1 9 4 5 6 7 7 8 1 7 8 6 7 1 4 9 7\n",
      " 1 4 8 6 3 4 4 2 6 6 4 6 1 2 8 4 1 3 0 4 7 4 6 0 2 8 0 0 2 8 9 8 1 4 8 9 6\n",
      " 2 2 3 8 8 2 8 1 9 6 9 4 6 0 2 6 0 8 1 0 9 4 3 0 1 1 2 7 0 4 1 6 0 6 4 7 6\n",
      " 1 1 4 4 2 5 4 7 7 3 2 8 7 7 1 3 2 4 2 1 5 1 1 5 4 1 2 7 0 7 2 0 0 5 5 1 7\n",
      " 0 3 7 9 0 9 3 9 9 9 6 2 5 8 7 0 5 9 1 9 9 7 0 1 4 7 4 6 6 2 9 8 1 5 9 2 6\n",
      " 3 2 7 3 8 7 0 1 9 2 1 7 2 6 3 4 0 5 7 8 7 3 7 4 3 8 2 3 8 1 1 4 4 1 0 4 8\n",
      " 4 2 6 1 2 7 5 3 9 8 2 7 7 6 3 3 2 3 4 9 9 7 2 0 4 8 3 8 2 3 2 4 9 7 7 4 2\n",
      " 0 8 7 3 2 4 6 3 0 5 7 5 4 5 4 7 3 8 4 0 1 1 4 0 0 8 1 0 3 3 3 1 1 6 4 5 2\n",
      " 7 0 4 8 4 2 5 8 4 7 2 0 4 2 6 4 8 2 1 1 0 4 9 8 1 4 2 1 8 3 3 0 4 5 1 1 9\n",
      " 7 4 3 5 2 6 1 4 2 3 9 2 1 3 3 2 1 4 2 8 6 3 1 8 8 0 0 0 4 9 1 1 4 4 7 6 0\n",
      " 2 9 4 0 4 3 6 1 7 4 7 6 1 4 3 0 8 3 1 8 4 8 5 2 4 8 2 1 4 7 2 9 7 8 6 9 1\n",
      " 5 3 7 9 1 5 1 0 4 0 4 9 6 3 0 3 1 2 3 4 2 1 9 9 7 4 2 2 6 4 7 3 6 1 9 0 1\n",
      " 6 8 9 8 3 6 7 8 2 3 1 9 7 0 2 9 0 4 2 4 9 6 3 9 3 6 7 9 1 1 0 3 1 0 1 2 8\n",
      " 8 4 6 1 1 4 3 0 4 3 0 7 5 6 8 3 8 4 9 3 0 7 8 4 1 9 7 7 0 1 9 8 2 2 2 7 8\n",
      " 1 9 9 8 4 3 3 0 9 4 5 6 2 3 3 9 2 9 9 3 8 8 3 5 4 7 7 9 0 1 0 2 2 7 0 1 9\n",
      " 8 8 5 7 4 3 2 1 0 1 1 8 3 3 3 0 4 2 1 4 8 7 9 6 4 2 7 7 8 7 7 9 2 8 5 4 5\n",
      " 0 3 3 2 5 3 9 0 4 7 9 3 6 3 7 0 0 4 0 9 6 9 3 0 6 8 9 2 5 0 2 7 6 5 5 0 3\n",
      " 1] [8 8 8 7 9 3 5 4 6 2 8 2 9 4 3 2 7 1 6 1 9 5 4 3 6 9 3 7 4 3 2 1 5 5 6 1 6\n",
      " 9 0 3 3 4 3 7 7 2 1 5 5 4 2 3 3 9 0 4 1 0 8 5 4 7 2 2 2 5 2 9 7 2 1 7 8 0\n",
      " 3 2 5 0 7 0 1 7 3 0 6 3 9 6 2 6 3 5 0 5 9 9 9 7 9 1 5 2 4 7 5 7 8 7 8 7 8\n",
      " 3 9 8 3 5 6 6 4 5 3 7 4 4 5 6 6 8 6 9 1 7 2 8 9 9 9 8 2 2 0 7 3 8 3 3 4 8\n",
      " 2 3 2 4 1 7 2 7 4 6 4 6 4 8 9 5 5 3 5 4 2 8 2 2 3 0 0 1 6 2 1 9 6 2 5 4 2\n",
      " 3 3 4 1 2 8 7 7 5 4 6 4 5 0 1 9 5 0 0 1 0 5 5 5 7 0 9 5 4 9 6 7 9 5 0 4 9\n",
      " 5 9 8 5 6 4 0 3 8 8 4 1 8 0 7 6 6 3 7 0 6 7 1 0 3 2 0 4 4 5 6 0 1 5 0 0 3\n",
      " 7 7 8 8 2 2 0 5 6 6 8 6 9 9 2 5 0 0 8 0 4 0 9 8 1 7 2 1 6 4 9 3 4 2 0 1 5\n",
      " 2 7 0 0 1 9 6 7 9 7 3 5 0 8 0 4 1 6 3 9 1 3 8 0 5 7 2 2 0 9 9 0 7 2 3 7 1\n",
      " 6 7 8 6 0 1 3 9 4 8 7 0 3 6 8 9 3 8 0 1 7 3 5 6 6 2 7 9 6 2 0 4 0 7 7 8 3\n",
      " 1 6 6 1 8 4 1 6 0 6 8 7 5 9 0 2 2 1 2 1 1 9 4 5 6 7 5 8 1 7 8 6 7 1 9 9 7\n",
      " 1 4 8 6 3 4 4 2 2 6 4 6 1 2 8 4 1 8 0 4 7 4 6 0 2 8 0 0 2 8 9 8 1 4 8 9 6\n",
      " 2 2 3 9 8 2 8 1 9 6 9 4 6 0 2 6 0 8 1 0 9 9 3 0 1 1 2 7 0 9 1 6 0 2 4 7 6\n",
      " 1 1 4 4 2 5 4 7 7 3 2 8 7 7 1 5 2 4 2 1 5 1 1 5 4 6 2 7 5 9 2 0 2 5 5 1 7\n",
      " 0 3 7 9 5 9 3 9 9 9 6 2 5 8 5 5 5 9 1 9 9 7 0 1 4 3 4 6 6 2 9 0 1 5 9 2 6\n",
      " 3 2 7 3 8 7 0 1 4 2 1 7 2 6 6 4 0 0 7 5 7 9 7 4 3 8 8 8 2 1 1 9 4 1 0 9 8\n",
      " 9 2 6 1 2 7 4 3 4 8 2 9 2 6 3 3 8 3 4 9 9 7 2 0 4 8 5 8 2 3 2 9 4 7 7 5 6\n",
      " 9 8 7 3 2 4 6 3 6 5 7 5 4 5 9 7 3 8 4 0 1 1 7 0 0 8 1 0 3 3 3 1 1 6 4 5 5\n",
      " 7 0 4 8 4 3 5 8 4 7 8 0 4 2 6 4 8 2 1 1 0 4 7 8 1 4 2 1 8 8 3 0 4 5 1 1 9\n",
      " 7 4 3 5 2 3 1 4 2 8 9 2 3 3 8 2 1 4 2 8 6 5 1 8 8 0 0 0 4 9 1 1 4 4 7 6 0\n",
      " 3 9 4 0 4 3 6 1 7 4 7 6 1 9 5 0 8 3 1 8 9 8 5 2 4 8 2 1 4 5 2 9 7 8 6 9 8\n",
      " 9 5 7 9 1 5 1 0 4 0 4 4 6 3 9 3 1 2 3 4 2 1 9 7 7 9 2 2 6 5 5 3 6 1 4 0 1\n",
      " 6 8 9 8 3 6 7 8 2 3 1 9 7 0 2 9 0 8 2 4 9 6 3 4 3 6 7 9 1 1 0 8 1 0 1 2 8\n",
      " 8 4 6 1 1 4 3 0 4 5 0 7 6 6 8 3 8 4 9 3 0 9 8 4 1 9 7 7 0 1 8 4 2 2 2 7 8\n",
      " 1 4 9 8 4 3 3 0 9 4 5 6 2 3 6 9 2 9 9 7 3 8 3 8 4 7 7 9 0 1 0 2 2 7 0 1 9\n",
      " 8 8 5 1 4 3 2 1 0 1 1 5 3 5 5 0 4 7 8 4 8 7 9 6 4 2 9 7 8 7 7 9 2 8 5 4 5\n",
      " 0 3 3 2 5 3 9 0 4 7 4 3 6 3 7 0 0 4 0 9 6 7 3 0 6 1 9 2 5 0 2 7 6 5 5 0 3\n",
      " 1]\n"
     ]
    },
    {
     "data": {
      "text/plain": [
       "0.855"
      ]
     },
     "execution_count": 10,
     "metadata": {},
     "output_type": "execute_result"
    }
   ],
   "source": [
    "dev_predictions = make_predictions(X_dev, W1, b1, W2, b2)\n",
    "get_accuracy(dev_predictions, Y_dev)"
   ]
  },
  {
   "cell_type": "code",
   "execution_count": 11,
   "id": "ad19c7fc-9cec-4994-9da1-6abcb4ee80a1",
   "metadata": {},
   "outputs": [
    {
     "name": "stdout",
     "output_type": "stream",
     "text": [
      "Prediction:  [7]\n",
      "Label:  7\n"
     ]
    },
    {
     "data": {
      "image/png": "[encoded data removed]",
      "text/plain": [
       "<Figure size 640x480 with 1 Axes>"
      ]
     },
     "metadata": {},
     "output_type": "display_data"
    },
    {
     "name": "stdout",
     "output_type": "stream",
     "text": [
      "Prediction:  [2]\n",
      "Label:  2\n"
     ]
    },
    {
     "data": {
      "image/png": "[encoded data removed]",
      "text/plain": [
       "<Figure size 640x480 with 1 Axes>"
      ]
     },
     "metadata": {},
     "output_type": "display_data"
    }
   ],
   "source": [
    "test_prediction(0, W1, b1, W2, b2)\n",
    "test_prediction(1, W1, b1, W2, b2)"
   ]
  },
  {
   "cell_type": "code",
   "execution_count": null,
   "id": "bb253a55-30c4-405b-85bc-3f9487ef8119",
   "metadata": {},
   "outputs": [],
   "source": []
  }
 ],
 "metadata": {
  "kernelspec": {
   "display_name": "Python 3 (ipykernel)",
   "language": "python",
   "name": "python3"
  },
  "language_info": {
   "codemirror_mode": {
    "name": "ipython",
    "version": 3
   },
   "file_extension": ".py",
   "mimetype": "text/x-python",
   "name": "python",
   "nbconvert_exporter": "python",
   "pygments_lexer": "ipython3",
   "version": "3.12.4"
  }
 },
 "nbformat": 4,
 "nbformat_minor": 5
}
